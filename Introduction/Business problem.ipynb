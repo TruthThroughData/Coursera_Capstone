{
 "cells": [
  {
   "cell_type": "markdown",
   "metadata": {},
   "source": [
    "#  Analysis of Barcelona's hostelry, hospitality and recreational business sector for supply and service industry development"
   ]
  },
  {
   "cell_type": "markdown",
   "metadata": {},
   "source": [
    "### Introduction "
   ]
  },
  {
   "cell_type": "markdown",
   "metadata": {},
   "source": [
    "This try to be a parcial market study about hospitality sector in Barcelona's city. It's also included the hostelry and recreational bussiness like gymns, in order to support the auxiliar service and utilities industry that supplay to those mentioned main industries."
   ]
  },
  {
   "cell_type": "markdown",
   "metadata": {},
   "source": [
    "### Target market for the study"
   ]
  },
  {
   "cell_type": "markdown",
   "metadata": {},
   "source": [
    "For instance, catering companies that work serving to hotels or restaurants, cleaning and desinfection companies, laundries, kitchenware suppliers, fresh food, etc.. all the companies that give services or supply goods for hotels, hostals, restaurants, and/or gyms in Barcelona "
   ]
  },
  {
   "cell_type": "markdown",
   "metadata": {},
   "source": [
    "### Area of study"
   ]
  },
  {
   "cell_type": "markdown",
   "metadata": {},
   "source": [
    "All the mentioned services's and utilities companies above need to know where fisicaly their possible objetive clients are. Also, they need to create areas dividing the city in order to give the best posible service for their clients. That's why, this studie try to use the known data bases of Barcelona to divide the city in areas and get a possible location for their warehouse or centralitation office for each area.\n"
   ]
  },
  {
   "cell_type": "markdown",
   "metadata": {},
   "source": [
    "### Methodology \n"
   ]
  },
  {
   "cell_type": "markdown",
   "metadata": {},
   "source": [
    "It is possible to use K-Mean clustering to divide the city in areas or groups because K-Mean try to group the elements with the less posible distance between elements of the group but getting the highest distance between each group. Furthermore, the K-Mean method provide the centroids, it means, a center point of the group where idealy can be localized an operational centralitation like warehouse or office to operate each group.\n",
    "Instead of use an Euclidean space, we can use longitude and latitude as a Cartesian space for K-Means."
   ]
  },
  {
   "cell_type": "code",
   "execution_count": null,
   "metadata": {},
   "outputs": [],
   "source": []
  }
 ],
 "metadata": {
  "kernelspec": {
   "display_name": "Python 3",
   "language": "python",
   "name": "python3"
  },
  "language_info": {
   "codemirror_mode": {
    "name": "ipython",
    "version": 3
   },
   "file_extension": ".py",
   "mimetype": "text/x-python",
   "name": "python",
   "nbconvert_exporter": "python",
   "pygments_lexer": "ipython3",
   "version": "3.8.6"
  }
 },
 "nbformat": 4,
 "nbformat_minor": 4
}
