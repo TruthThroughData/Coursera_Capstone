{
 "cells": [
  {
   "cell_type": "markdown",
   "metadata": {},
   "source": [
    "# Data sources"
   ]
  },
  {
   "cell_type": "markdown",
   "metadata": {},
   "source": [
    "### Barcelona's opendata repository"
   ]
  },
  {
   "cell_type": "markdown",
   "metadata": {},
   "source": [
    "https://opendata-ajuntament.barcelona.cat/\n",
    "\n",
    "In the link above it's posible to find a large source of oficial information from Barcelon's Council.\n",
    "Thanks to this open data availability , it's why I decided to focuse the study in Barcelona's city. The dataset provides the information in wide range of formats. The acaccessibility can be directly through the links in the web or through their different API's. A better explanation of the API management can be found on the link below :\n",
    "\n",
    "https://opendata-ajuntament.barcelona.cat/en/desenvolupadors\n",
    "\n"
   ]
  },
  {
   "cell_type": "markdown",
   "metadata": {},
   "source": [
    "### Foursquare API "
   ]
  },
  {
   "cell_type": "markdown",
   "metadata": {},
   "source": [
    "Because in the council dataset, the information about potential recreational business like gyms are mixed with other sectors and the information is not easy to handle, in the study will be used Foursquare dataset to get the closed gyms to the centroids based on their distance. To get it, the Python Foursquare pakage will be used to get an easy access. \n",
    "\n",
    "https://pypi.org/project/foursquare/"
   ]
  }
 ],
 "metadata": {
  "kernelspec": {
   "display_name": "Python 3",
   "language": "python",
   "name": "python3"
  },
  "language_info": {
   "codemirror_mode": {
    "name": "ipython",
    "version": 3
   },
   "file_extension": ".py",
   "mimetype": "text/x-python",
   "name": "python",
   "nbconvert_exporter": "python",
   "pygments_lexer": "ipython3",
   "version": "3.8.6"
  }
 },
 "nbformat": 4,
 "nbformat_minor": 4
}
